{
 "cells": [
  {
   "cell_type": "markdown",
   "metadata": {},
   "source": [
    "### Installation\n",
    "1. Run the first 2 cells\n",
    "2. Restart runtime\n",
    "3. Run the rest of the jupyter notebooks (do not run the first 2 cells again)"
   ]
  },
  {
   "cell_type": "code",
   "execution_count": null,
   "metadata": {
    "colab": {
     "base_uri": "https://localhost:8080/"
    },
    "id": "YPHHCUKZn89j",
    "outputId": "0748f66f-8128-4e89-a845-482efb2d0c8c"
   },
   "outputs": [],
   "source": [
    "!git clone -b main https://github.com/zcemycl/TF2DeepFloorplan.git\n",
    "!pip install gdown\n",
    "!pip install --upgrade --no-cache-dir gdown\n",
    "!gdown https://drive.google.com/uc?id=1czUSFvk6Z49H-zRikTc67g2HUUz4imON\n",
    "!unzip log.zip\n",
    "!rm log.zip"
   ]
  },
  {
   "cell_type": "code",
   "execution_count": null,
   "metadata": {},
   "outputs": [],
   "source": [
    "# gpu\n",
    "# !cd TF2DeepFloorplan && pip install -e .[tfgpu]\n",
    "# cpu\n",
    "!cd TF2DeepFloorplan && pip install -e .[tfcpu]"
   ]
  },
  {
   "cell_type": "markdown",
   "metadata": {},
   "source": [
    "### Main Script"
   ]
  },
  {
   "cell_type": "code",
   "execution_count": null,
   "metadata": {
    "colab": {
     "base_uri": "https://localhost:8080/"
    },
    "id": "C4VRom9mqBPT",
    "outputId": "74d58dfd-60cb-44a2-b992-94fff7cc83f6"
   },
   "outputs": [],
   "source": [
    "import tensorflow as tf\n",
    "import sys\n",
    "from dfp.net import *\n",
    "from dfp.data import *\n",
    "import matplotlib.image as mpimg\n",
    "import matplotlib.pyplot as plt\n",
    "from argparse import Namespace\n",
    "import os\n",
    "import gc\n",
    "os.environ['TF_FORCE_GPU_ALLOW_GROWTH'] = 'true'\n",
    "from dfp.utils.rgb_ind_convertor import *\n",
    "from dfp.utils.util import *\n",
    "from dfp.utils.legend import *\n",
    "from dfp.deploy import *\n",
    "print(tf.test.is_gpu_available())\n",
    "print(tf.config.list_physical_devices('GPU'))"
   ]
  },
  {
   "cell_type": "code",
   "execution_count": null,
   "metadata": {
    "id": "30DTDbxbwm3O"
   },
   "outputs": [],
   "source": [
    "inp = mpimg.imread('./TF2DeepFloorplan/resources/30939153.jpg')"
   ]
  },
  {
   "cell_type": "code",
   "execution_count": null,
   "metadata": {
    "colab": {
     "base_uri": "https://localhost:8080/"
    },
    "id": "xzqbdPC0uJNc",
    "outputId": "e57d885d-2f31-4077-cfbe-8ef738c5466c"
   },
   "outputs": [],
   "source": [
    "args = Namespace(image='./TF2DeepFloorplan/resources/30939153.jpg',\n",
    "        weight='./log/store/G',loadmethod='log',\n",
    "        postprocess=True,colorize=True,\n",
    "        save=None,tfmodel=\"subclass\")\n",
    "result = main(args)"
   ]
  },
  {
   "cell_type": "code",
   "execution_count": null,
   "metadata": {
    "colab": {
     "base_uri": "https://localhost:8080/",
     "height": 252
    },
    "id": "2xVIt5LEusqf",
    "outputId": "cb197ad8-6971-420e-aae7-3d4a9142cf8c"
   },
   "outputs": [],
   "source": [
    "plt.subplot(1,2,1)\n",
    "plt.imshow(inp); plt.xticks([]); plt.yticks([]);\n",
    "plt.subplot(1,2,2)\n",
    "plt.imshow(result); plt.xticks([]); plt.yticks([]);"
   ]
  },
  {
   "cell_type": "markdown",
   "metadata": {
    "id": "Jto5H5cXypOD"
   },
   "source": [
    "## Breakdown of postprocessing (step by step)"
   ]
  },
  {
   "cell_type": "code",
   "execution_count": null,
   "metadata": {
    "colab": {
     "base_uri": "https://localhost:8080/"
    },
    "id": "57rg5h7XywwU",
    "outputId": "91f8d2d0-e32d-466d-e830-010607016fec"
   },
   "outputs": [],
   "source": [
    "model,img,shp = init(args)\n",
    "logits_cw,logits_r = predict(model,img,shp)"
   ]
  },
  {
   "cell_type": "code",
   "execution_count": null,
   "metadata": {
    "colab": {
     "base_uri": "https://localhost:8080/",
     "height": 252
    },
    "id": "2aUCqpT6zPmv",
    "outputId": "1b3901fa-a7a0-4d68-d9e2-21455c4dc26f"
   },
   "outputs": [],
   "source": [
    "logits_r = tf.image.resize(logits_r,shp[:2])\n",
    "logits_cw = tf.image.resize(logits_cw,shp[:2])\n",
    "r = convert_one_hot_to_image(logits_r)[0].numpy()\n",
    "cw = convert_one_hot_to_image(logits_cw)[0].numpy()\n",
    "plt.subplot(1,2,1)\n",
    "plt.imshow(r.squeeze()); plt.xticks([]); plt.yticks([]);\n",
    "plt.subplot(1,2,2)\n",
    "plt.imshow(cw.squeeze()); plt.xticks([]); plt.yticks([]);"
   ]
  },
  {
   "cell_type": "code",
   "execution_count": null,
   "metadata": {
    "colab": {
     "base_uri": "https://localhost:8080/",
     "height": 252
    },
    "id": "UYf4WVVCzgqj",
    "outputId": "423422f1-b292-4b0e-cfc7-e639db1115ca"
   },
   "outputs": [],
   "source": [
    "r_color,cw_color = colorize(r.squeeze(),cw.squeeze())\n",
    "plt.subplot(1,2,1)\n",
    "plt.imshow(r_color); plt.xticks([]); plt.yticks([]);\n",
    "plt.subplot(1,2,2)\n",
    "plt.imshow(cw_color); plt.xticks([]); plt.yticks([]);"
   ]
  },
  {
   "cell_type": "code",
   "execution_count": null,
   "metadata": {
    "colab": {
     "base_uri": "https://localhost:8080/",
     "height": 287
    },
    "id": "LTm_qYqa0HGc",
    "outputId": "83a183c7-2a6a-4144-8462-2a95aabdaed3"
   },
   "outputs": [],
   "source": [
    "newr,newcw = post_process(r,cw,shp)\n",
    "plt.subplot(1,2,1)\n",
    "plt.imshow(newr.squeeze()); plt.xticks([]); plt.yticks([]);\n",
    "plt.subplot(1,2,2)\n",
    "plt.imshow(newcw.squeeze()); plt.xticks([]); plt.yticks([]);"
   ]
  },
  {
   "cell_type": "code",
   "execution_count": null,
   "metadata": {
    "colab": {
     "base_uri": "https://localhost:8080/",
     "height": 252
    },
    "id": "S5MCeHF30ygl",
    "outputId": "bb88248d-331a-496e-8b08-78c7a0306fa4"
   },
   "outputs": [],
   "source": [
    "newr_color,newcw_color = colorize(newr.squeeze(),newcw.squeeze())\n",
    "plt.subplot(1,2,1)\n",
    "plt.imshow(newr_color); plt.xticks([]); plt.yticks([]);\n",
    "plt.subplot(1,2,2)\n",
    "plt.imshow(newcw_color); plt.xticks([]); plt.yticks([]);"
   ]
  },
  {
   "cell_type": "code",
   "execution_count": null,
   "metadata": {
    "colab": {
     "base_uri": "https://localhost:8080/",
     "height": 252
    },
    "id": "18UYo3rz0918",
    "outputId": "2a2319a4-668e-40b9-837d-964421f87c14"
   },
   "outputs": [],
   "source": [
    "plt.imshow(newr_color+newcw_color); plt.xticks([]); plt.yticks([]);"
   ]
  },
  {
   "cell_type": "code",
   "execution_count": null,
   "metadata": {
    "colab": {
     "base_uri": "https://localhost:8080/",
     "height": 252
    },
    "id": "dydb1kWl13hL",
    "outputId": "16e9a5bc-3809-41bb-9a1a-f49c7deb5aa4"
   },
   "outputs": [],
   "source": [
    "over255 = lambda x: [p/255 for p in x]\n",
    "colors2 = [over255(rgb) for rgb in list(floorplan_fuse_map.values())]\n",
    "colors = [\"background\", \"closet\", \"bathroom\",\n",
    "          \"living room\\nkitchen\\ndining room\",\n",
    "          \"bedroom\",\"hall\",\"balcony\",\"not used\",\"not used\",\n",
    "          \"door/window\",\"wall\"]\n",
    "f = lambda m,c: plt.plot([],[],marker=m, color=c, ls=\"none\")[0]\n",
    "handles = [f(\"s\", colors2[i]) for i in range(len(colors))]\n",
    "labels = colors\n",
    "legend = plt.legend(handles, labels, loc=3,framealpha=1, frameon=True)\n",
    "\n",
    "fig  = legend.figure\n",
    "fig.canvas.draw()\n",
    "plt.xticks([]); plt.yticks([]);\n"
   ]
  },
  {
   "cell_type": "code",
   "execution_count": null,
   "metadata": {
    "id": "iy8nx0WZ2QGS"
   },
   "outputs": [],
   "source": []
  }
 ],
 "metadata": {
  "accelerator": "GPU",
  "colab": {
   "collapsed_sections": [],
   "name": "deepfloorplan.ipynb",
   "provenance": []
  },
  "kernelspec": {
   "display_name": "Python 3 (ipykernel)",
   "language": "python",
   "name": "python3"
  },
  "language_info": {
   "codemirror_mode": {
    "name": "ipython",
    "version": 3
   },
   "file_extension": ".py",
   "mimetype": "text/x-python",
   "name": "python",
   "nbconvert_exporter": "python",
   "pygments_lexer": "ipython3",
   "version": "3.8.16"
  }
 },
 "nbformat": 4,
 "nbformat_minor": 1
}
